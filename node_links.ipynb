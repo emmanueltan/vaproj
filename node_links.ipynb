{
 "cells": [
  {
   "cell_type": "code",
   "execution_count": 4,
   "id": "a456db60",
   "metadata": {},
   "outputs": [],
   "source": [
    "import json\n",
    "\n",
    "influence = json.load(open(\"vehicle_influence2.json\", 'r'))\n",
    "relationships = json.load(open(\"relationship2.json\", 'r'))\n",
    "data = {}\n",
    "data[\"nodes\"] = influence\n",
    "data[\"links\"] = relationships\n",
    "\n",
    "with open('nodeLinks2.json', 'w') as file:\n",
    "    json.dump(data, file, indent = 4)"
   ]
  },
  {
   "cell_type": "code",
   "execution_count": null,
   "id": "121c93f3",
   "metadata": {},
   "outputs": [],
   "source": [
    "# def modify_json(filepath, filesave, key):\n",
    "#     res = json.load(open(filepath, 'r'))\n",
    "#     data = {}\n",
    "#     data[key] = res\n",
    "#     print(data)\n",
    "#     with open(filesave, 'w') as file:\n",
    "#         json.dump(data, file, indent = 4)\n",
    "\n",
    "# modify_json(\"relationship.json\", 'links.json', 'links')"
   ]
  }
 ],
 "metadata": {
  "kernelspec": {
   "display_name": "Python 3",
   "language": "python",
   "name": "python3"
  },
  "language_info": {
   "codemirror_mode": {
    "name": "ipython",
    "version": 3
   },
   "file_extension": ".py",
   "mimetype": "text/x-python",
   "name": "python",
   "nbconvert_exporter": "python",
   "pygments_lexer": "ipython3",
   "version": "3.7.3"
  }
 },
 "nbformat": 4,
 "nbformat_minor": 5
}
